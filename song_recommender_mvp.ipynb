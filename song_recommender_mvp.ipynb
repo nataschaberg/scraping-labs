{
 "cells": [
  {
   "cell_type": "markdown",
   "id": "5c9bb51c",
   "metadata": {},
   "source": [
    "### MVP Song Recommender"
   ]
  },
  {
   "cell_type": "code",
   "execution_count": null,
   "id": "c8f7f424",
   "metadata": {},
   "outputs": [],
   "source": [
    "import pandas as pd\n",
    "import random"
   ]
  },
  {
   "cell_type": "code",
   "execution_count": null,
   "id": "14918a94",
   "metadata": {},
   "outputs": [],
   "source": [
    "billboard_hot_100 = pd.read_csv('billboard_100.csv')\n",
    "discogs = pd.read_csv('music_discogs.csv')"
   ]
  },
  {
   "cell_type": "code",
   "execution_count": null,
   "id": "de292e83",
   "metadata": {},
   "outputs": [],
   "source": [
    "def song_recommender(song_name):\n",
    "    if len(billboard_hot_100.query('song_title.str.lower() == @song_name.lower()')):\n",
    "        rand_index = random.randint(0, billboard_hot_100.shape[0])\n",
    "        print('Song recommendation: ', billboard_hot_100.loc[rand_index, 'artist'], \n",
    "              ' - ',billboard_hot_100.loc[rand_index, 'song_title'], ' - ', 'from billboard hot 100')\n",
    "    else:\n",
    "        rand_index = random.randint(0, discogs.shape[0])\n",
    "        print('Song recommendation: ', discogs.loc[rand_index, 'artist'], \n",
    "              ' - ', discogs.loc[rand_index, 'song_title'], ' - ', 'from discogs')"
   ]
  },
  {
   "cell_type": "code",
   "execution_count": null,
   "id": "9145f11b",
   "metadata": {},
   "outputs": [],
   "source": [
    "song_name = input('Plase enter a song name: ')\n",
    "song_recommender(song_name)"
   ]
  },
  {
   "cell_type": "code",
   "execution_count": null,
   "id": "714499dd",
   "metadata": {},
   "outputs": [],
   "source": []
  }
 ],
 "metadata": {
  "kernelspec": {
   "display_name": "Python 3 (ipykernel)",
   "language": "python",
   "name": "python3"
  },
  "language_info": {
   "codemirror_mode": {
    "name": "ipython",
    "version": 3
   },
   "file_extension": ".py",
   "mimetype": "text/x-python",
   "name": "python",
   "nbconvert_exporter": "python",
   "pygments_lexer": "ipython3",
   "version": "3.9.12"
  }
 },
 "nbformat": 4,
 "nbformat_minor": 5
}
