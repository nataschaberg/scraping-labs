{
 "cells": [
  {
   "cell_type": "code",
   "execution_count": null,
   "id": "68fe2ffd",
   "metadata": {},
   "outputs": [],
   "source": [
    "import pandas as pd\n",
    "from bs4 import BeautifulSoup\n",
    "import requests"
   ]
  },
  {
   "cell_type": "markdown",
   "id": "cea1b30f",
   "metadata": {},
   "source": [
    "### Scrape billboard hot 100"
   ]
  },
  {
   "cell_type": "code",
   "execution_count": null,
   "id": "65295314",
   "metadata": {},
   "outputs": [],
   "source": [
    "billboard_top_100 = pd.DataFrame([], columns=['chart_rank', 'artist', 'song_title'])"
   ]
  },
  {
   "cell_type": "code",
   "execution_count": null,
   "id": "ec41b04c",
   "metadata": {},
   "outputs": [],
   "source": [
    "def scrape_billboard_hot_100(dataset):\n",
    "    r = requests.get('https://www.billboard.com/charts/hot-100/')\n",
    "    soup = BeautifulSoup(r.content, 'html.parser')\n",
    "    song_rows = soup.find_all('div', attrs={'class': 'o-chart-results-list-row-container'})\n",
    "    for i, row in enumerate(song_rows):\n",
    "        song = row.find('h3', attrs={'class': 'a-no-trucate', 'id': 'title-of-a-story'})    \n",
    "        artist =  row.find_all('span', attrs={'class': 'c-label'})[1]\n",
    "\n",
    "        dataset.at[dataset.shape[0]] = [i+1, artist.get_text(strip=True), \n",
    "                                        song.get_text(strip=True)]"
   ]
  },
  {
   "cell_type": "code",
   "execution_count": null,
   "id": "83864e9d",
   "metadata": {},
   "outputs": [],
   "source": [
    "scrape_billboard_hot_100(billboard_top_100)"
   ]
  },
  {
   "cell_type": "code",
   "execution_count": null,
   "id": "e670c1a0",
   "metadata": {},
   "outputs": [],
   "source": [
    "billboard_top_100"
   ]
  },
  {
   "cell_type": "code",
   "execution_count": null,
   "id": "29c9d5ca",
   "metadata": {},
   "outputs": [],
   "source": [
    "billboard_top_100.to_csv('billboard_100.csv', index=False)"
   ]
  },
  {
   "cell_type": "markdown",
   "id": "1236afd8",
   "metadata": {},
   "source": [
    "### Expand collection of songs and artists"
   ]
  },
  {
   "cell_type": "markdown",
   "id": "7e25a227",
   "metadata": {},
   "source": [
    "- Scrape page www.discogs.com\n",
    "- get items for five music genres: Electronic, Pop, Jazz, Rock, HipHop\n",
    "- scrape only the first 10 pages (max) with up to 250 items per page "
   ]
  },
  {
   "cell_type": "code",
   "execution_count": null,
   "id": "615dd207",
   "metadata": {},
   "outputs": [],
   "source": [
    "HEADERS = {'User-Agent': 'Mozilla/5.0 (Macintosh; Intel Mac OS X 10_10_1) AppleWebKit/537.36 (KHTML, like Gecko) Chrome/39.0.2171.95 Safari/537.36'}\n",
    "GENRES = ['Electronic', 'Pop', 'Jazz', 'Rock', 'Hip+Hop']"
   ]
  },
  {
   "cell_type": "code",
   "execution_count": null,
   "id": "4b4de9bf",
   "metadata": {},
   "outputs": [],
   "source": [
    "music_database = pd.DataFrame([], columns=['gerne', 'artist', 'song_title'])"
   ]
  },
  {
   "cell_type": "code",
   "execution_count": null,
   "id": "9cd19ac5",
   "metadata": {},
   "outputs": [],
   "source": [
    "def extract_discogs_list_info(row):\n",
    "    artist = row.find_all('a')[0].get_text(strip=True)\n",
    "    song = row.find_all('a')[1].get_text(strip=True)\n",
    "    return artist, song\n",
    "\n",
    "\n",
    "def extract_discogs_page_info(url, dataset, genre):\n",
    "    res = requests.get(url_music, headers=HEADERS)\n",
    "    soup = BeautifulSoup(res.content, 'html.parser')\n",
    "    discogs_row = soup.find_all('li', attrs={'role': 'listitem'})\n",
    "    \n",
    "    for row in discogs_row:\n",
    "        dataset.at[dataset.shape[0]] = [genre, *extract_discogs_list_info(row)]\n",
    "\n",
    "def scrape_discogs_website(list_genres):\n",
    "    for genre in list_genres:\n",
    "        for i in range(1, 11):\n",
    "            url_music = f'https://www.discogs.com/search/?limit=250&sort=have%2Cdesc&ev=gs_mc&layout=sm&genre_exact={genre}&page={i}'\n",
    "            extract_discogs_page_info(url_music, music_database, genre)"
   ]
  },
  {
   "cell_type": "code",
   "execution_count": null,
   "id": "b9dff249",
   "metadata": {
    "scrolled": false
   },
   "outputs": [],
   "source": [
    "scrape_discogs_website(GENRES)"
   ]
  },
  {
   "cell_type": "code",
   "execution_count": null,
   "id": "cfdd2959",
   "metadata": {},
   "outputs": [],
   "source": [
    "music_database"
   ]
  },
  {
   "cell_type": "code",
   "execution_count": null,
   "id": "0dedfc24",
   "metadata": {},
   "outputs": [],
   "source": [
    "music_database.to_csv('music_discogs.csv', index=False)"
   ]
  },
  {
   "cell_type": "code",
   "execution_count": null,
   "id": "4df873fe",
   "metadata": {},
   "outputs": [],
   "source": []
  }
 ],
 "metadata": {
  "kernelspec": {
   "display_name": "Python 3 (ipykernel)",
   "language": "python",
   "name": "python3"
  },
  "language_info": {
   "codemirror_mode": {
    "name": "ipython",
    "version": 3
   },
   "file_extension": ".py",
   "mimetype": "text/x-python",
   "name": "python",
   "nbconvert_exporter": "python",
   "pygments_lexer": "ipython3",
   "version": "3.9.12"
  }
 },
 "nbformat": 4,
 "nbformat_minor": 5
}
