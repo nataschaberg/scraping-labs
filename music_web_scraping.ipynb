{
 "cells": [
  {
   "cell_type": "code",
   "execution_count": 4,
   "id": "e2e4c6b3",
   "metadata": {},
   "outputs": [],
   "source": [
    "import pandas as pd\n",
    "from bs4 import BeautifulSoup\n",
    "import requests"
   ]
  },
  {
   "cell_type": "markdown",
   "id": "8c4625c7",
   "metadata": {},
   "source": [
    "### Scrape billboard hot 100"
   ]
  },
  {
   "cell_type": "code",
   "execution_count": 112,
   "id": "3fe16f9f",
   "metadata": {},
   "outputs": [],
   "source": [
    "billboard_top_100 = pd.DataFrame([], columns=['chart_rank', 'artist', 'song_title'])"
   ]
  },
  {
   "cell_type": "code",
   "execution_count": 113,
   "id": "502bd429",
   "metadata": {},
   "outputs": [],
   "source": [
    "def scrape_billboard_hot_100(dataset):\n",
    "    r = requests.get('https://www.billboard.com/charts/hot-100/')\n",
    "    soup = BeautifulSoup(r.content, 'html.parser')\n",
    "    song_rows = soup.find_all('div', attrs={'class': 'o-chart-results-list-row-container'})\n",
    "    for i, row in enumerate(song_rows):\n",
    "        song = row.find('h3', attrs={'class': 'a-no-trucate', 'id': 'title-of-a-story'})    \n",
    "        artist =  row.find_all('span', attrs={'class': 'c-label'})[1]\n",
    "\n",
    "        dataset.at[dataset.shape[0]] = [i+1, artist.get_text(strip=True), \n",
    "                                        song.get_text(strip=True)]"
   ]
  },
  {
   "cell_type": "code",
   "execution_count": 114,
   "id": "bd9f9e24",
   "metadata": {},
   "outputs": [],
   "source": [
    "scrape_billboard_hot_100(billboard_top_100)"
   ]
  },
  {
   "cell_type": "code",
   "execution_count": 115,
   "id": "817ad61f",
   "metadata": {},
   "outputs": [
    {
     "data": {
      "text/html": [
       "<div>\n",
       "<style scoped>\n",
       "    .dataframe tbody tr th:only-of-type {\n",
       "        vertical-align: middle;\n",
       "    }\n",
       "\n",
       "    .dataframe tbody tr th {\n",
       "        vertical-align: top;\n",
       "    }\n",
       "\n",
       "    .dataframe thead th {\n",
       "        text-align: right;\n",
       "    }\n",
       "</style>\n",
       "<table border=\"1\" class=\"dataframe\">\n",
       "  <thead>\n",
       "    <tr style=\"text-align: right;\">\n",
       "      <th></th>\n",
       "      <th>chart_rank</th>\n",
       "      <th>artist</th>\n",
       "      <th>song_title</th>\n",
       "    </tr>\n",
       "  </thead>\n",
       "  <tbody>\n",
       "    <tr>\n",
       "      <th>0</th>\n",
       "      <td>1</td>\n",
       "      <td>Miley Cyrus</td>\n",
       "      <td>Flowers</td>\n",
       "    </tr>\n",
       "    <tr>\n",
       "      <th>1</th>\n",
       "      <td>2</td>\n",
       "      <td>SZA</td>\n",
       "      <td>Kill Bill</td>\n",
       "    </tr>\n",
       "    <tr>\n",
       "      <th>2</th>\n",
       "      <td>3</td>\n",
       "      <td>Metro Boomin, The Weeknd &amp; 21 Savage</td>\n",
       "      <td>Creepin'</td>\n",
       "    </tr>\n",
       "    <tr>\n",
       "      <th>3</th>\n",
       "      <td>4</td>\n",
       "      <td>PinkPantheress &amp; Ice Spice</td>\n",
       "      <td>Boy's A Liar, Pt. 2</td>\n",
       "    </tr>\n",
       "    <tr>\n",
       "      <th>4</th>\n",
       "      <td>5</td>\n",
       "      <td>Morgan Wallen</td>\n",
       "      <td>Last Night</td>\n",
       "    </tr>\n",
       "    <tr>\n",
       "      <th>...</th>\n",
       "      <td>...</td>\n",
       "      <td>...</td>\n",
       "      <td>...</td>\n",
       "    </tr>\n",
       "    <tr>\n",
       "      <th>95</th>\n",
       "      <td>96</td>\n",
       "      <td>Jordan Davis</td>\n",
       "      <td>Next Thing You Know</td>\n",
       "    </tr>\n",
       "    <tr>\n",
       "      <th>96</th>\n",
       "      <td>97</td>\n",
       "      <td>Metro Boomin Featuring Don Toliver &amp; Future</td>\n",
       "      <td>Too Many Nights</td>\n",
       "    </tr>\n",
       "    <tr>\n",
       "      <th>97</th>\n",
       "      <td>98</td>\n",
       "      <td>Nengo Flow &amp; Bad Bunny</td>\n",
       "      <td>Gato de Noche</td>\n",
       "    </tr>\n",
       "    <tr>\n",
       "      <th>98</th>\n",
       "      <td>99</td>\n",
       "      <td>NEW</td>\n",
       "      <td>Painting Pictures</td>\n",
       "    </tr>\n",
       "    <tr>\n",
       "      <th>99</th>\n",
       "      <td>100</td>\n",
       "      <td>Morgan Wallen</td>\n",
       "      <td>Tennessee Fan</td>\n",
       "    </tr>\n",
       "  </tbody>\n",
       "</table>\n",
       "<p>100 rows × 3 columns</p>\n",
       "</div>"
      ],
      "text/plain": [
       "   chart_rank                                       artist  \\\n",
       "0           1                                  Miley Cyrus   \n",
       "1           2                                          SZA   \n",
       "2           3         Metro Boomin, The Weeknd & 21 Savage   \n",
       "3           4                   PinkPantheress & Ice Spice   \n",
       "4           5                                Morgan Wallen   \n",
       "..        ...                                          ...   \n",
       "95         96                                 Jordan Davis   \n",
       "96         97  Metro Boomin Featuring Don Toliver & Future   \n",
       "97         98                       Nengo Flow & Bad Bunny   \n",
       "98         99                                          NEW   \n",
       "99        100                                Morgan Wallen   \n",
       "\n",
       "             song_title  \n",
       "0               Flowers  \n",
       "1             Kill Bill  \n",
       "2              Creepin'  \n",
       "3   Boy's A Liar, Pt. 2  \n",
       "4            Last Night  \n",
       "..                  ...  \n",
       "95  Next Thing You Know  \n",
       "96      Too Many Nights  \n",
       "97        Gato de Noche  \n",
       "98    Painting Pictures  \n",
       "99        Tennessee Fan  \n",
       "\n",
       "[100 rows x 3 columns]"
      ]
     },
     "execution_count": 115,
     "metadata": {},
     "output_type": "execute_result"
    }
   ],
   "source": [
    "billboard_top_100"
   ]
  },
  {
   "cell_type": "code",
   "execution_count": 117,
   "id": "d1e8fe84",
   "metadata": {},
   "outputs": [],
   "source": [
    "billboard_top_100.to_csv('billboard_100.csv', index=False)"
   ]
  },
  {
   "cell_type": "markdown",
   "id": "d065ff2c",
   "metadata": {},
   "source": [
    "### Expand collection of songs and artists"
   ]
  },
  {
   "cell_type": "markdown",
   "id": "2b0e0ed6",
   "metadata": {},
   "source": [
    "- Scrape page www.discogs.com\n",
    "- get items for five music genres: Electronic, Pop, Jazz, Rock, HipHop\n",
    "- scrape only the first 10 pages (max) with up to 250 items per page "
   ]
  },
  {
   "cell_type": "code",
   "execution_count": 107,
   "id": "eedf3484",
   "metadata": {},
   "outputs": [],
   "source": [
    "HEADERS = {'User-Agent': 'Mozilla/5.0 (Macintosh; Intel Mac OS X 10_10_1) AppleWebKit/537.36 (KHTML, like Gecko) Chrome/39.0.2171.95 Safari/537.36'}\n",
    "GENRES = ['Electronic', 'Pop', 'Jazz', 'Rock', 'Hip+Hop']"
   ]
  },
  {
   "cell_type": "code",
   "execution_count": 104,
   "id": "8fd3a46a",
   "metadata": {},
   "outputs": [],
   "source": [
    "music_database = pd.DataFrame([], columns=['gerne', 'artist', 'song_title'])"
   ]
  },
  {
   "cell_type": "code",
   "execution_count": 103,
   "id": "f2ba6751",
   "metadata": {},
   "outputs": [],
   "source": [
    "def extract_discogs_list_info(row):\n",
    "    artist = row.find_all('a')[0].get_text(strip=True)\n",
    "    song = row.find_all('a')[1].get_text(strip=True)\n",
    "    return artist, song\n",
    "\n",
    "\n",
    "def extract_discogs_page_info(url, dataset, genre):\n",
    "    res = requests.get(url_music, headers=HEADERS)\n",
    "    soup = BeautifulSoup(res.content, 'html.parser')\n",
    "    discogs_row = soup.find_all('li', attrs={'role': 'listitem'})\n",
    "    \n",
    "    for row in discogs_row:\n",
    "        dataset.at[dataset.shape[0]] = [genre, *extract_discogs_list_info(row)]\n",
    "\n",
    "def scrape_discogs_website(list_genres):\n",
    "    for genre in list_genres:\n",
    "        for i in range(1, 11):\n",
    "            url_music = f'https://www.discogs.com/search/?limit=250&sort=have%2Cdesc&ev=gs_mc&layout=sm&genre_exact={genre}&page={i}'\n",
    "            extract_discogs_page_info(url_music, music_database, genre)"
   ]
  },
  {
   "cell_type": "code",
   "execution_count": 108,
   "id": "438510e5",
   "metadata": {
    "scrolled": false
   },
   "outputs": [],
   "source": [
    "scrape_discogs_website(GENRES)"
   ]
  },
  {
   "cell_type": "code",
   "execution_count": 109,
   "id": "ed319423",
   "metadata": {},
   "outputs": [
    {
     "data": {
      "text/html": [
       "<div>\n",
       "<style scoped>\n",
       "    .dataframe tbody tr th:only-of-type {\n",
       "        vertical-align: middle;\n",
       "    }\n",
       "\n",
       "    .dataframe tbody tr th {\n",
       "        vertical-align: top;\n",
       "    }\n",
       "\n",
       "    .dataframe thead th {\n",
       "        text-align: right;\n",
       "    }\n",
       "</style>\n",
       "<table border=\"1\" class=\"dataframe\">\n",
       "  <thead>\n",
       "    <tr style=\"text-align: right;\">\n",
       "      <th></th>\n",
       "      <th>gerne</th>\n",
       "      <th>artist</th>\n",
       "      <th>song_title</th>\n",
       "    </tr>\n",
       "  </thead>\n",
       "  <tbody>\n",
       "    <tr>\n",
       "      <th>0</th>\n",
       "      <td>Electronic</td>\n",
       "      <td>Daft Punk</td>\n",
       "      <td>Discovery</td>\n",
       "    </tr>\n",
       "    <tr>\n",
       "      <th>1</th>\n",
       "      <td>Electronic</td>\n",
       "      <td>Daft Punk</td>\n",
       "      <td>Homework</td>\n",
       "    </tr>\n",
       "    <tr>\n",
       "      <th>2</th>\n",
       "      <td>Electronic</td>\n",
       "      <td>Björk</td>\n",
       "      <td>Debut</td>\n",
       "    </tr>\n",
       "    <tr>\n",
       "      <th>3</th>\n",
       "      <td>Electronic</td>\n",
       "      <td>Lady Gaga</td>\n",
       "      <td>Chromatica</td>\n",
       "    </tr>\n",
       "    <tr>\n",
       "      <th>4</th>\n",
       "      <td>Electronic</td>\n",
       "      <td>Madonna</td>\n",
       "      <td>Ray Of Light</td>\n",
       "    </tr>\n",
       "    <tr>\n",
       "      <th>...</th>\n",
       "      <td>...</td>\n",
       "      <td>...</td>\n",
       "      <td>...</td>\n",
       "    </tr>\n",
       "    <tr>\n",
       "      <th>12445</th>\n",
       "      <td>Hip+Hop</td>\n",
       "      <td>C + C Music Factory</td>\n",
       "      <td>Gonna Make You Sweat</td>\n",
       "    </tr>\n",
       "    <tr>\n",
       "      <th>12446</th>\n",
       "      <td>Hip+Hop</td>\n",
       "      <td>Daft Punk</td>\n",
       "      <td>TRON: Legacy (Vinyl Edition Motion Picture Sou...</td>\n",
       "    </tr>\n",
       "    <tr>\n",
       "      <th>12447</th>\n",
       "      <td>Hip+Hop</td>\n",
       "      <td>Madonna</td>\n",
       "      <td>Keep It Together</td>\n",
       "    </tr>\n",
       "    <tr>\n",
       "      <th>12448</th>\n",
       "      <td>Hip+Hop</td>\n",
       "      <td>Mousse T.</td>\n",
       "      <td>Hot 'N' Juicy</td>\n",
       "    </tr>\n",
       "    <tr>\n",
       "      <th>12449</th>\n",
       "      <td>Hip+Hop</td>\n",
       "      <td>Burial</td>\n",
       "      <td>Street Halo</td>\n",
       "    </tr>\n",
       "  </tbody>\n",
       "</table>\n",
       "<p>12450 rows × 3 columns</p>\n",
       "</div>"
      ],
      "text/plain": [
       "            gerne               artist  \\\n",
       "0      Electronic            Daft Punk   \n",
       "1      Electronic            Daft Punk   \n",
       "2      Electronic                Björk   \n",
       "3      Electronic            Lady Gaga   \n",
       "4      Electronic              Madonna   \n",
       "...           ...                  ...   \n",
       "12445     Hip+Hop  C + C Music Factory   \n",
       "12446     Hip+Hop            Daft Punk   \n",
       "12447     Hip+Hop              Madonna   \n",
       "12448     Hip+Hop            Mousse T.   \n",
       "12449     Hip+Hop               Burial   \n",
       "\n",
       "                                              song_title  \n",
       "0                                              Discovery  \n",
       "1                                               Homework  \n",
       "2                                                  Debut  \n",
       "3                                             Chromatica  \n",
       "4                                           Ray Of Light  \n",
       "...                                                  ...  \n",
       "12445                               Gonna Make You Sweat  \n",
       "12446  TRON: Legacy (Vinyl Edition Motion Picture Sou...  \n",
       "12447                                   Keep It Together  \n",
       "12448                                      Hot 'N' Juicy  \n",
       "12449                                        Street Halo  \n",
       "\n",
       "[12450 rows x 3 columns]"
      ]
     },
     "execution_count": 109,
     "metadata": {},
     "output_type": "execute_result"
    }
   ],
   "source": [
    "music_database"
   ]
  },
  {
   "cell_type": "code",
   "execution_count": 110,
   "id": "527cbb1c",
   "metadata": {},
   "outputs": [],
   "source": [
    "music_database.to_csv('music_discogs.csv', index=False)"
   ]
  },
  {
   "cell_type": "code",
   "execution_count": null,
   "id": "3d1a7b1c",
   "metadata": {},
   "outputs": [],
   "source": []
  }
 ],
 "metadata": {
  "kernelspec": {
   "display_name": "Python 3 (ipykernel)",
   "language": "python",
   "name": "python3"
  },
  "language_info": {
   "codemirror_mode": {
    "name": "ipython",
    "version": 3
   },
   "file_extension": ".py",
   "mimetype": "text/x-python",
   "name": "python",
   "nbconvert_exporter": "python",
   "pygments_lexer": "ipython3",
   "version": "3.9.12"
  }
 },
 "nbformat": 4,
 "nbformat_minor": 5
}
